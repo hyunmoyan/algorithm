{
  "nbformat": 4,
  "nbformat_minor": 0,
  "metadata": {
    "colab": {
      "name": "01. Binary_Search.ipynb",
      "provenance": [],
      "collapsed_sections": [],
      "authorship_tag": "ABX9TyMkxx+YPz44aVxxT1XZXjuB",
      "include_colab_link": true
    },
    "kernelspec": {
      "name": "python3",
      "display_name": "Python 3"
    }
  },
  "cells": [
    {
      "cell_type": "markdown",
      "metadata": {
        "id": "view-in-github",
        "colab_type": "text"
      },
      "source": [
        "<a href=\"https://colab.research.google.com/github/hyunmoyan/algorithm/blob/master/01_Binary_Search.ipynb\" target=\"_parent\"><img src=\"https://colab.research.google.com/assets/colab-badge.svg\" alt=\"Open In Colab\"/></a>"
      ]
    },
    {
      "cell_type": "markdown",
      "metadata": {
        "id": "l5ljYA9WSGik",
        "colab_type": "text"
      },
      "source": [
        "# 1. 수찾기\n",
        "\n",
        "https://www.acmicpc.net/problem/1920"
      ]
    },
    {
      "cell_type": "markdown",
      "metadata": {
        "id": "MW_DDqQUSgmU",
        "colab_type": "text"
      },
      "source": [
        "첫째 줄에 자연수 N(1≤N≤100,000)이 주어진다. 다음 줄에는 N개의 정수 A[1], A[2], …, A[N]이 주어진다. 다음 줄에는 M(1≤M≤100,000)이 주어진다. 다음 줄에는 M개의 수들이 주어지는데, 이 수들이 A안에 존재하는지 알아내면 된다. 모든 정수의 범위는 -2^31 보다 크거나 같고 2^31보다 작다.\n"
      ]
    },
    {
      "cell_type": "code",
      "metadata": {
        "id": "ns9ZXvVwRWNI",
        "colab_type": "code",
        "colab": {}
      },
      "source": [
        "\n",
        "def sort(arr):\n",
        "  length = len(arr)\n",
        "  for k in range(length):\n",
        "    for i in range(k+1, length):\n",
        "      if arr[k] >= arr[i]:\n",
        "        temp = arr[k]\n",
        "        arr[k] = arr[i]\n",
        "        arr[i] = temp\n",
        "  \n",
        "  print(arr)\n",
        "  return arr\n",
        "\n",
        "\n",
        "\n",
        "\n"
      ],
      "execution_count": 56,
      "outputs": []
    },
    {
      "cell_type": "code",
      "metadata": {
        "id": "nQXXwRi3EzDo",
        "colab_type": "code",
        "colab": {}
      },
      "source": [
        "def binary_research(arr, item):\n",
        "  length = len(arr)\n",
        "  low = 0\n",
        "  high = len(arr)\n",
        "\n",
        "  while low<= high:\n",
        "    search = int((low+high)/2)\n",
        "\n",
        "    if arr[search] == item:\n",
        "      print(1)\n",
        "      return\n",
        "\n",
        "    if arr[search] < item:\n",
        "      low = search + 1\n",
        "    \n",
        "    if arr[search] > item:\n",
        "      high = search - 1\n",
        "  \n",
        "  print(0)\n",
        "\n"
      ],
      "execution_count": 54,
      "outputs": []
    },
    {
      "cell_type": "code",
      "metadata": {
        "id": "xS6JTZauJgc6",
        "colab_type": "code",
        "colab": {}
      },
      "source": [
        "def makeArray():\n",
        "  #n을 받고, n만큼의 배열에 넣기\n",
        "  n_input = input(\"배열의 원소 개수: \")\n",
        "  n_input = int(n_input)\n",
        "  print(n_input)\n",
        "  n_arr = []\n",
        "  for i in range(n_input):\n",
        "    var1 = int(input(\"배열에 수를 입력: \"))\n",
        "    if 1<= var1 <=100000:\n",
        "      n_arr.append(var1)\n",
        "  return n_arr\n",
        "\n"
      ],
      "execution_count": 52,
      "outputs": []
    },
    {
      "cell_type": "code",
      "metadata": {
        "id": "Qb3lSPa1DFh3",
        "colab_type": "code",
        "colab": {
          "base_uri": "https://localhost:8080/",
          "height": 316
        },
        "outputId": "ca93a8f9-afdc-4db2-b6a6-804a32e9b614"
      },
      "source": [
        "n_arr = makeArray()\n",
        "m_arr = makeArray()\n",
        "n_arr = sort(n_arr)\n",
        "m_arr = sort(m_arr)\n",
        "X = int(input(\"찾고 싶은 수: \"))\n",
        "binary_research(n_arr, X)\n",
        "binary_research(m_arr, X)\n"
      ],
      "execution_count": 55,
      "outputs": [
        {
          "output_type": "stream",
          "text": [
            "배열의 원소 개수: 5\n",
            "5\n",
            "배열에 수를 입력: 3\n",
            "배열에 수를 입력: 1\n",
            "배열에 수를 입력: 4\n",
            "배열에 수를 입력: 2\n",
            "배열에 수를 입력: 5\n",
            "배열의 원소 개수: 5\n",
            "5\n",
            "배열에 수를 입력: 7\n",
            "배열에 수를 입력: 6\n",
            "배열에 수를 입력: 8\n",
            "배열에 수를 입력: 4\n",
            "배열에 수를 입력: 5\n",
            "찾고 싶은 수: 2\n",
            "1\n",
            "0\n"
          ],
          "name": "stdout"
        }
      ]
    },
    {
      "cell_type": "code",
      "metadata": {
        "id": "51A9xlvyKx6B",
        "colab_type": "code",
        "colab": {}
      },
      "source": [
        ""
      ],
      "execution_count": null,
      "outputs": []
    }
  ]
}